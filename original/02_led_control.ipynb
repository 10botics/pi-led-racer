{
 "cells": [
  {
   "cell_type": "markdown",
   "metadata": {},
   "source": [
    "# Raspberry Pi LED Control Tutorial\n",
    "\n",
    "## Learning Objectives\n",
    "\n",
    "In this lesson, you will learn:\n",
    "\n",
    "1. Wire up LED arcade button lights to Raspberry Pi\n",
    "2. Use the `gpiozero` library to control LEDs\n",
    "3. Understand LED states (on/off) and PWM dimming\n",
    "4. Create interactive button-LED games\n",
    "5. Build a \"press to turn off\" challenge game\n",
    "6. Clean up GPIO resources properly"
   ]
  },
  {
   "cell_type": "markdown",
   "metadata": {},
   "source": [
    "## Hardware Setup\n",
    "\n",
    "Before we start coding, you need to wire up your LED arcade button:\n",
    "\n",
    "### Wiring Diagram\n",
    "```\n",
    "Raspberry Pi    Arcade Button LED\n",
    "GPIO 18   -----> LED+ (Anode)\n",
    "GND       -----> LED- (Cathode)\n",
    "```\n",
    "\n",
    "### Steps:\n",
    "1. Connect the LED's **anode** (+) to Raspberry Pi **GPIO 18**\n",
    "2. Connect the LED's **cathode** (-) to Raspberry Pi **GND**\n",
    "3. Make sure your Raspberry Pi is powered on\n",
    "\n",
    "**Note:** We're using BCM pin numbering (GPIO 18), not physical pin numbers.\n",
    "**Safety:** The LED should have a current-limiting resistor (usually built into arcade buttons).\n",
    "\n",
    "**GPIO Pin Reference:**\n",
    "- BCM GPIO 18 = Physical Pin 12 on Raspberry Pi header\n",
    "- BCM GPIO 6 = Physical Pin 31 on Raspberry Pi header"
   ]
  },
  {
   "cell_type": "markdown",
   "metadata": {},
   "source": [
    "## GPIO Setup and Cleanup\n",
    "\n",
    "**Important:** Run this cell first to clean up any existing GPIO objects and avoid pin conflicts.\n",
    "\n",
    "If you get \"pin already in use\" errors, restart the kernel and run this cell again."
   ]
  },
  {
   "cell_type": "code",
   "execution_count": 1,
   "metadata": {},
   "outputs": [
    {
     "name": "stdout",
     "output_type": "stream",
     "text": [
      "✅ GPIO cleaned up\n",
      "✅ GPIO pins 18 and 6 are now free for use\n"
     ]
    },
    {
     "name": "stderr",
     "output_type": "stream",
     "text": [
      "/tmp/ipykernel_1776/1390196829.py:7: RuntimeWarning: No channels have been set up yet - nothing to clean up!  Try cleaning up at the end of your program instead!\n",
      "  GPIO.cleanup()\n"
     ]
    }
   ],
   "source": [
    "# Clean up any existing GPIO objects to avoid pin conflicts\n",
    "import RPi.GPIO as GPIO\n",
    "import time\n",
    "\n",
    "# Clean up GPIO to start fresh\n",
    "try:\n",
    "    GPIO.cleanup()\n",
    "    print(\"✅ GPIO cleaned up\")\n",
    "except:\n",
    "    print(\"✅ GPIO already clean\")\n",
    "\n",
    "print(\"✅ GPIO pins 18 and 6 are now free for use\")"
   ]
  },
  {
   "cell_type": "markdown",
   "metadata": {},
   "source": [
    "## Exercise 1: Import Required Libraries\n",
    "\n",
    "**Objective:** Import the necessary libraries for LED and button control\n",
    "\n",
    "**Instructions:** Import the required libraries: `time` and `RPi.GPIO as GPIO`"
   ]
  },
  {
   "cell_type": "code",
   "execution_count": 2,
   "metadata": {},
   "outputs": [
    {
     "name": "stdout",
     "output_type": "stream",
     "text": [
      "✅ Libraries imported successfully\n"
     ]
    }
   ],
   "source": [
    "# Import the required libraries\n",
    "# You need: time and RPi.GPIO as GPIO\n",
    "\n",
    "# Your code here...\n",
    "# Hint: import time, import RPi.GPIO as GPIO\n",
    "\n",
    "print(\"✅ Libraries imported successfully\")"
   ]
  },
  {
   "cell_type": "markdown",
   "metadata": {},
   "source": [
    "### Answer"
   ]
  },
  {
   "cell_type": "code",
   "execution_count": 2,
   "metadata": {},
   "outputs": [
    {
     "name": "stdout",
     "output_type": "stream",
     "text": [
      "✅ Libraries imported successfully\n"
     ]
    }
   ],
   "source": [
    "import time\n",
    "import RPi.GPIO as GPIO\n",
    "\n",
    "print(\"✅ Libraries imported successfully\")"
   ]
  },
  {
   "cell_type": "markdown",
   "metadata": {},
   "source": [
    "## Exercise 2: Create LED and Button Objects\n",
    "\n",
    "**Objective:** Setup GPIO pins for LED and button control\n",
    "\n",
    "**Instructions:** Configure GPIO pins for LED output and button input\n",
    "\n",
    "**About the parameters:**\n",
    "- LED: `GPIO 18` configured as output\n",
    "- Button: `GPIO 6` configured as input with pull-up resistor"
   ]
  },
  {
   "cell_type": "code",
   "execution_count": 3,
   "metadata": {},
   "outputs": [
    {
     "name": "stdout",
     "output_type": "stream",
     "text": [
      "✅ GPIO pins configured\n",
      "LED pin: GPIO 18 (Output)\n",
      "Button pin: GPIO 6 (Input with pull-up)\n"
     ]
    }
   ],
   "source": [
    "GPIO.setmode(GPIO.BCM)\n",
    "GPIO.setup(18, GPIO.OUT)\n",
    "GPIO.setup(6, GPIO.IN, pull_up_down=GPIO.PUD_UP)\n",
    "\n",
    "print(\"✅ GPIO pins configured\")\n",
    "print(f\"LED pin: GPIO 18 (Output)\")\n",
    "print(f\"Button pin: GPIO 6 (Input with pull-up)\")"
   ]
  },
  {
   "cell_type": "markdown",
   "metadata": {},
   "source": [
    "### Answer"
   ]
  },
  {
   "cell_type": "code",
   "execution_count": 4,
   "metadata": {},
   "outputs": [
    {
     "name": "stdout",
     "output_type": "stream",
     "text": [
      "✅ GPIO pins configured\n",
      "LED pin: GPIO 18 (Output)\n",
      "Button pin: GPIO 6 (Input with pull-up)\n"
     ]
    }
   ],
   "source": [
    "GPIO.setmode(GPIO.BCM)\n",
    "GPIO.setup(18, GPIO.OUT)\n",
    "GPIO.setup(6, GPIO.IN, pull_up_down=GPIO.PUD_UP)\n",
    "\n",
    "print(\"✅ GPIO pins configured\")\n",
    "print(f\"LED pin: GPIO 18 (Output)\")\n",
    "print(f\"Button pin: GPIO 6 (Input with pull-up)\")"
   ]
  },
  {
   "cell_type": "markdown",
   "metadata": {},
   "source": [
    "## Exercise 3: Basic LED Control\n",
    "\n",
    "**Objective:** Learn how to turn LED on and off\n",
    "\n",
    "**Instructions:** Complete the code below to control the LED\n",
    "\n",
    "**About LED control:**\n",
    "- `GPIO.output(18, GPIO.HIGH)` turns the LED on\n",
    "- `GPIO.output(18, GPIO.LOW)` turns the LED off\n",
    "- `GPIO.input(18)` returns 1 if on, 0 if off"
   ]
  },
  {
   "cell_type": "code",
   "execution_count": 5,
   "metadata": {},
   "outputs": [
    {
     "ename": "TypeError",
     "evalue": "function takes exactly 2 arguments (1 given)",
     "output_type": "error",
     "traceback": [
      "\u001b[0;31m---------------------------------------------------------------------------\u001b[0m",
      "\u001b[0;31mTypeError\u001b[0m                                 Traceback (most recent call last)",
      "Cell \u001b[0;32mIn[5], line 2\u001b[0m\n\u001b[1;32m      1\u001b[0m \u001b[38;5;66;03m# Turn LED on, use GPIO.HIGH\u001b[39;00m\n\u001b[0;32m----> 2\u001b[0m \u001b[43mGPIO\u001b[49m\u001b[38;5;241;43m.\u001b[39;49m\u001b[43moutput\u001b[49m\u001b[43m(\u001b[49m\u001b[38;5;241;43m18\u001b[39;49m\u001b[43m,\u001b[49m\u001b[43m \u001b[49m\u001b[43m)\u001b[49m\n\u001b[1;32m      3\u001b[0m \u001b[38;5;28mprint\u001b[39m(\u001b[38;5;124m\"\u001b[39m\u001b[38;5;124mLED turned ON\u001b[39m\u001b[38;5;124m\"\u001b[39m)\n\u001b[1;32m      4\u001b[0m \u001b[38;5;28mprint\u001b[39m(\u001b[38;5;124mf\u001b[39m\u001b[38;5;124m\"\u001b[39m\u001b[38;5;124mLED value: \u001b[39m\u001b[38;5;132;01m{\u001b[39;00mGPIO\u001b[38;5;241m.\u001b[39minput(\u001b[38;5;241m18\u001b[39m)\u001b[38;5;132;01m}\u001b[39;00m\u001b[38;5;124m\"\u001b[39m)\n",
      "\u001b[0;31mTypeError\u001b[0m: function takes exactly 2 arguments (1 given)"
     ]
    }
   ],
   "source": [
    "# Turn LED on, use GPIO.HIGH\n",
    "GPIO.output(18, )\n",
    "print(\"LED turned ON\")\n",
    "print(f\"LED value: {GPIO.input(18)}\")\n",
    "\n",
    "time.sleep(2)  # Wait 2 seconds\n",
    "\n",
    "# Turn LED off\n",
    "GPIO.output(18, )\n",
    "print(\"LED turned OFF\")\n",
    "print(f\"LED value: {GPIO.input(18)}\")"
   ]
  },
  {
   "cell_type": "markdown",
   "metadata": {},
   "source": [
    "### Answer"
   ]
  },
  {
   "cell_type": "code",
   "execution_count": 6,
   "metadata": {},
   "outputs": [
    {
     "name": "stdout",
     "output_type": "stream",
     "text": [
      "LED turned ON\n",
      "LED value: 1\n",
      "LED turned OFF\n",
      "LED value: 0\n"
     ]
    }
   ],
   "source": [
    "# Turn LED on, use GPIO.HIGH\n",
    "GPIO.output(18, GPIO.HIGH)\n",
    "print(\"LED turned ON\")\n",
    "print(f\"LED value: {GPIO.input(18)}\")\n",
    "\n",
    "time.sleep(2)  # Wait 2 seconds\n",
    "\n",
    "# Turn LED off\n",
    "GPIO.output(18, GPIO.LOW)\n",
    "print(\"LED turned OFF\")\n",
    "print(f\"LED value: {GPIO.input(18)}\")"
   ]
  },
  {
   "cell_type": "markdown",
   "metadata": {},
   "source": [
    "## Exercise 4: LED Blinking\n",
    "\n",
    "**Objective:** Create a blinking LED pattern\n",
    "\n",
    "**Instructions:** Complete the code below to make the LED blink 5 times\n",
    "\n",
    "**About blinking:**\n",
    "- Use a loop to repeat the on/off cycle\n",
    "- Add delays between state changes\n",
    "- Count the number of blinks"
   ]
  },
  {
   "cell_type": "code",
   "execution_count": null,
   "metadata": {},
   "outputs": [],
   "source": [
    "print(\"LED Blinking Pattern\")\n",
    "print(\"====================\")\n",
    "\n",
    "# Blink LED 5 times\n",
    "for i in range(5):\n",
    "    print(f\"Blink {i+1}/5\")\n",
    "    \n",
    "    # Turn LED on\n",
    "    GPIO.output(18, GPIO.HIGH)\n",
    "    \n",
    "    time.sleep(0.5)  # Wait 0.5 seconds\n",
    "    \n",
    "    # Turn LED off\n",
    "    GPIO.output(18, GPIO.LOW)\n",
    "    \n",
    "    time.sleep(0.5)  # Wait 0.5 seconds\n",
    "\n",
    "print(\"Blinking complete!\")"
   ]
  },
  {
   "cell_type": "markdown",
   "metadata": {},
   "source": [
    "### Answer"
   ]
  },
  {
   "cell_type": "code",
   "execution_count": 7,
   "metadata": {},
   "outputs": [
    {
     "name": "stdout",
     "output_type": "stream",
     "text": [
      "LED Blinking Pattern\n",
      "====================\n",
      "Blink 1/5\n",
      "Blink 2/5\n",
      "Blink 3/5\n",
      "Blink 4/5\n",
      "Blink 5/5\n",
      "Blinking complete!\n"
     ]
    }
   ],
   "source": [
    "print(\"LED Blinking Pattern\")\n",
    "print(\"====================\")\n",
    "\n",
    "# Blink LED 5 times\n",
    "for i in range(5):\n",
    "    print(f\"Blink {i+1}/5\")\n",
    "    \n",
    "    # Turn LED on\n",
    "    GPIO.output(18, GPIO.HIGH)\n",
    "    \n",
    "    time.sleep(0.5)  # Wait 0.5 seconds\n",
    "    \n",
    "    # Turn LED off\n",
    "    GPIO.output(18, GPIO.LOW)\n",
    "    \n",
    "    time.sleep(0.5)  # Wait 0.5 seconds\n",
    "\n",
    "print(\"Blinking complete!\")"
   ]
  },
  {
   "cell_type": "markdown",
   "metadata": {},
   "source": [
    "## Exercise 5: Button Controls LED\n",
    "\n",
    "**Objective:** Make the button control the LED\n",
    "\n",
    "**Instructions:** Complete the code below to turn LED on when button is pressed\n",
    "\n",
    "**About the logic:**\n",
    "- Check button state in a loop\n",
    "- Turn LED on when button is pressed\n",
    "- Turn LED off when button is released"
   ]
  },
  {
   "cell_type": "code",
   "execution_count": null,
   "metadata": {},
   "outputs": [],
   "source": [
    "print(\"Button Controls LED\")\n",
    "print(\"==================\")\n",
    "print(\"Press the button to turn LED on/off...\")\n",
    "print(\"Press Ctrl+C to stop\")\n",
    "print()\n",
    "\n",
    "while True:\n",
    "    # Get current button state\n",
    "    button_pressed = GPIO.input(6) == GPIO.LOW\n",
    "    \n",
    "    # Control LED based on button state\n",
    "    if button_pressed:\n",
    "        GPIO.output(18, GPIO.HIGH)\n",
    "        print(\"🔘 Button pressed - LED ON\")\n",
    "    else:\n",
    "        GPIO.output(18, GPIO.LOW)\n",
    "        print(\"   Button released - LED OFF\")\n",
    "    \n",
    "    time.sleep(0.01)  # Small delay\n",
    "\n",
    "print(\"\\nTest stopped.\")"
   ]
  },
  {
   "cell_type": "markdown",
   "metadata": {},
   "source": [
    "### Answer"
   ]
  },
  {
   "cell_type": "code",
   "execution_count": 17,
   "metadata": {},
   "outputs": [
    {
     "name": "stdout",
     "output_type": "stream",
     "text": [
      "Button Controls LED\n",
      "==================\n",
      "Press the button to turn LED on/off...\n",
      "Press Ctrl+C to stop\n",
      "\n",
      "   Button released - LED OFF\n",
      "   Button released - LED OFF\n",
      "   Button released - LED OFF\n",
      "   Button released - LED OFF\n",
      "   Button released - LED OFF\n",
      "   Button released - LED OFF\n",
      "   Button released - LED OFF\n",
      "   Button released - LED OFF\n",
      "   Button released - LED OFF\n",
      "   Button released - LED OFF\n",
      "   Button released - LED OFF\n",
      "   Button released - LED OFF\n",
      "   Button released - LED OFF\n",
      "   Button released - LED OFF\n",
      "   Button released - LED OFF\n",
      "   Button released - LED OFF\n",
      "   Button released - LED OFF\n",
      "   Button released - LED OFF\n",
      "   Button released - LED OFF\n",
      "   Button released - LED OFF\n",
      "   Button released - LED OFF\n",
      "   Button released - LED OFF\n",
      "   Button released - LED OFF\n",
      "   Button released - LED OFF\n",
      "   Button released - LED OFF\n",
      "   Button released - LED OFF\n",
      "   Button released - LED OFF\n",
      "   Button released - LED OFF\n",
      "   Button released - LED OFF\n",
      "   Button released - LED OFF\n",
      "🔘 Button pressed - LED ON\n",
      "🔘 Button pressed - LED ON\n",
      "🔘 Button pressed - LED ON\n",
      "🔘 Button pressed - LED ON\n",
      "🔘 Button pressed - LED ON\n",
      "   Button released - LED OFF\n",
      "   Button released - LED OFF\n",
      "   Button released - LED OFF\n",
      "   Button released - LED OFF\n",
      "🔘 Button pressed - LED ON\n",
      "🔘 Button pressed - LED ON\n",
      "🔘 Button pressed - LED ON\n",
      "🔘 Button pressed - LED ON\n",
      "🔘 Button pressed - LED ON\n",
      "   Button released - LED OFF\n",
      "   Button released - LED OFF\n",
      "   Button released - LED OFF\n",
      "   Button released - LED OFF\n",
      "🔘 Button pressed - LED ON\n",
      "🔘 Button pressed - LED ON\n",
      "   Button released - LED OFF\n",
      "   Button released - LED OFF\n",
      "   Button released - LED OFF\n",
      "   Button released - LED OFF\n",
      "   Button released - LED OFF\n",
      "   Button released - LED OFF\n",
      "   Button released - LED OFF\n",
      "   Button released - LED OFF\n",
      "   Button released - LED OFF\n",
      "   Button released - LED OFF\n",
      "   Button released - LED OFF\n",
      "   Button released - LED OFF\n",
      "   Button released - LED OFF\n",
      "   Button released - LED OFF\n",
      "   Button released - LED OFF\n",
      "   Button released - LED OFF\n",
      "   Button released - LED OFF\n",
      "   Button released - LED OFF\n",
      "   Button released - LED OFF\n",
      "   Button released - LED OFF\n",
      "   Button released - LED OFF\n",
      "   Button released - LED OFF\n",
      "   Button released - LED OFF\n",
      "   Button released - LED OFF\n",
      "   Button released - LED OFF\n",
      "   Button released - LED OFF\n",
      "   Button released - LED OFF\n",
      "   Button released - LED OFF\n",
      "   Button released - LED OFF\n",
      "   Button released - LED OFF\n",
      "   Button released - LED OFF\n",
      "   Button released - LED OFF\n",
      "   Button released - LED OFF\n",
      "   Button released - LED OFF\n",
      "   Button released - LED OFF\n",
      "   Button released - LED OFF\n",
      "   Button released - LED OFF\n",
      "   Button released - LED OFF\n",
      "   Button released - LED OFF\n",
      "   Button released - LED OFF\n",
      "   Button released - LED OFF\n",
      "   Button released - LED OFF\n",
      "   Button released - LED OFF\n",
      "   Button released - LED OFF\n",
      "   Button released - LED OFF\n",
      "   Button released - LED OFF\n",
      "   Button released - LED OFF\n",
      "   Button released - LED OFF\n",
      "   Button released - LED OFF\n",
      "   Button released - LED OFF\n",
      "\n",
      "Test stopped.\n"
     ]
    }
   ],
   "source": [
    "print(\"Button Controls LED\")\n",
    "print(\"==================\")\n",
    "print(\"Press the button to turn LED on/off...\")\n",
    "print(\"Press Ctrl+C to stop\")\n",
    "print()\n",
    "\n",
    "LOOP = 100\n",
    "\n",
    "# Run for 10 seconds to test\n",
    "start_time = time.time()\n",
    "\n",
    "for i in range(LOOP):\n",
    "    # Get current button state\n",
    "    button_pressed = GPIO.input(6) == GPIO.LOW\n",
    "    \n",
    "    # Control LED based on button state\n",
    "    if button_pressed:\n",
    "        GPIO.output(18, GPIO.HIGH)\n",
    "        print(\"🔘 Button pressed - LED ON\")\n",
    "    else:\n",
    "        GPIO.output(18, GPIO.LOW)\n",
    "        print(\"   Button released - LED OFF\")\n",
    "    \n",
    "    time.sleep(0.1)  # Small delay\n",
    "    \n",
    "    \n",
    "\n",
    "print(\"\\nTest stopped.\")"
   ]
  },
  {
   "cell_type": "markdown",
   "metadata": {},
   "source": [
    "## Exercise 6: LED Toggle with Button\n",
    "\n",
    "**Objective:** Create a toggle effect - each button press switches LED state\n",
    "\n",
    "**Instructions:** Complete the code below to toggle LED on/off with each button press\n",
    "\n",
    "**About toggle logic:**\n",
    "- Track button state changes (not just current state)\n",
    "- Use `led.toggle()` to switch between on/off\n",
    "- Only toggle when button is first pressed (not while held)"
   ]
  },
  {
   "cell_type": "code",
   "execution_count": null,
   "metadata": {},
   "outputs": [],
   "source": [
    "print(\"LED Toggle with Button\")\n",
    "print(\"=====================\")\n",
    "print(\"Press button to toggle LED on/off...\")\n",
    "print(\"Press Ctrl+C to stop\")\n",
    "print()\n",
    "\n",
    "last_button_state = False\n",
    "led_state = False\n",
    "\n",
    "while True:\n",
    "    # Get current button state\n",
    "    current_button_state = GPIO.input(6) == GPIO.LOW\n",
    "\n",
    "    # Write your code here\n",
    "    # how do you toggle the led light?\n",
    "    \n",
    "    time.sleep(0.01)\n",
    "\n",
    "print(\"\\nTest stopped.\")"
   ]
  },
  {
   "cell_type": "markdown",
   "metadata": {},
   "source": [
    "### Answer"
   ]
  },
  {
   "cell_type": "code",
   "execution_count": 11,
   "metadata": {},
   "outputs": [
    {
     "name": "stdout",
     "output_type": "stream",
     "text": [
      "LED Toggle with Button\n",
      "=====================\n",
      "Press button to toggle LED on/off...\n",
      "Press Ctrl+C to stop\n",
      "\n",
      "🔘 Button pressed - LED toggled ON\n",
      "🔘 Button pressed - LED toggled OFF\n",
      "🔘 Button pressed - LED toggled ON\n",
      "🔘 Button pressed - LED toggled OFF\n",
      "🔘 Button pressed - LED toggled ON\n",
      "🔘 Button pressed - LED toggled OFF\n",
      "🔘 Button pressed - LED toggled ON\n",
      "🔘 Button pressed - LED toggled OFF\n"
     ]
    },
    {
     "ename": "KeyboardInterrupt",
     "evalue": "",
     "output_type": "error",
     "traceback": [
      "\u001b[0;31m---------------------------------------------------------------------------\u001b[0m",
      "\u001b[0;31mKeyboardInterrupt\u001b[0m                         Traceback (most recent call last)",
      "Cell \u001b[0;32mIn[11], line 27\u001b[0m\n\u001b[1;32m     24\u001b[0m             \u001b[38;5;28mprint\u001b[39m(\u001b[38;5;124m\"\u001b[39m\u001b[38;5;124m🔘 Button pressed - LED toggled OFF\u001b[39m\u001b[38;5;124m\"\u001b[39m)\n\u001b[1;32m     26\u001b[0m     last_button_state \u001b[38;5;241m=\u001b[39m current_button_state\n\u001b[0;32m---> 27\u001b[0m     \u001b[43mtime\u001b[49m\u001b[38;5;241;43m.\u001b[39;49m\u001b[43msleep\u001b[49m\u001b[43m(\u001b[49m\u001b[38;5;241;43m0.01\u001b[39;49m\u001b[43m)\u001b[49m\n\u001b[1;32m     29\u001b[0m \u001b[38;5;28mprint\u001b[39m(\u001b[38;5;124m\"\u001b[39m\u001b[38;5;130;01m\\n\u001b[39;00m\u001b[38;5;124mTest stopped.\u001b[39m\u001b[38;5;124m\"\u001b[39m)\n",
      "\u001b[0;31mKeyboardInterrupt\u001b[0m: "
     ]
    }
   ],
   "source": [
    "print(\"LED Toggle with Button\")\n",
    "print(\"=====================\")\n",
    "print(\"Press button to toggle LED on/off...\")\n",
    "print(\"Press Ctrl+C to stop\")\n",
    "print()\n",
    "\n",
    "last_button_state = False\n",
    "led_state = False\n",
    "\n",
    "while True:\n",
    "    # Get current button state\n",
    "    current_button_state = GPIO.input(6) == GPIO.LOW\n",
    "    \n",
    "    # Detect button press (transition from False to True)\n",
    "    if current_button_state and not last_button_state:\n",
    "        # Toggle LED state\n",
    "        led_state = not led_state\n",
    "        GPIO.output(18, GPIO.HIGH if led_state else GPIO.LOW)\n",
    "        \n",
    "        # Show current LED state\n",
    "        if led_state:\n",
    "            print(\"🔘 Button pressed - LED toggled ON\")\n",
    "        else:\n",
    "            print(\"🔘 Button pressed - LED toggled OFF\")\n",
    "    \n",
    "    last_button_state = current_button_state\n",
    "    time.sleep(0.01)\n",
    "\n",
    "print(\"\\nTest stopped.\")"
   ]
  },
  {
   "cell_type": "markdown",
   "metadata": {},
   "source": [
    "## Exercise 7: \"Press to Turn Off\" Challenge Game\n",
    "\n",
    "**Objective:** Create a game where LED lights up randomly and player must press button to turn it off\n",
    "\n",
    "**Instructions:** Complete the code below to create the challenge game\n",
    "\n",
    "**Game Rules:**\n",
    "- LED lights up randomly (1-5 seconds)\n",
    "- Player must press button within 3 seconds to turn it off\n",
    "- If successful, score increases\n",
    "- If too slow, game continues but no score\n",
    "- Game runs for 30 seconds"
   ]
  },
  {
   "cell_type": "code",
   "execution_count": 14,
   "metadata": {},
   "outputs": [],
   "source": [
    "def led_on():\n",
    "    GPIO.output(18, GPIO.HIGH)\n",
    "\n",
    "def led_off():\n",
    "    GPIO.output(18, GPIO.LOW)"
   ]
  },
  {
   "cell_type": "code",
   "execution_count": null,
   "metadata": {},
   "outputs": [],
   "source": [
    "import random\n",
    "\n",
    "print(\"🎮 Press to Turn Off Challenge Game\")\n",
    "print(\"=====================================\")\n",
    "print(\"Rules: LED lights up randomly. Press button within 3 seconds to turn it off!\")\n",
    "print(\"Game runs for 30 seconds. Press Ctrl+C to stop early.\")\n",
    "print()\n",
    "\n",
    "score = 0\n",
    "game_start_time = time.time()\n",
    "led_light_time = None\n",
    "game_state = \"waiting\"  # waiting, led_on, success, failed\n",
    "\n",
    "while time.time() - game_start_time < 30:\n",
    "    current_time = time.time()\n",
    "    button_pressed = GPIO.input(6) == GPIO.LOW\n",
    "    \n",
    "    if game_state == \"waiting\":\n",
    "        # Randomly decide to light up LED\n",
    "        if random.random() < 0.02:  # 2% chance each loop\n",
    "            # Your code here...\n",
    "            # Hint: Turn on/off led ?\n",
    "            # Hint: update led turn on time\n",
    "            # Hint: update game state\n",
    "            print(\"💡 LED LIT UP! Press the button quickly!\")\n",
    "    \n",
    "    elif game_state == \"led_on\":\n",
    "        # Check if button was pressed\n",
    "        if button_pressed:\n",
    "            # Your code here...\n",
    "            # Hint: Turn on/off led ?\n",
    "            # Hint: update led turn on time\n",
    "            # Hint: update game state\n",
    "            score += 1\n",
    "            print(f\"✅ Success! Score: {score}\")\n",
    "        \n",
    "        # Check if time ran out (3 seconds)\n",
    "        elif current_time - led_light_time > 3:\n",
    "            # Your code here...\n",
    "            # Hint: Turn on/off led ?\n",
    "            # Hint: update led turn on time?\n",
    "            # Hint: update game state?\n",
    "            print(f\"❌ Too slow! Score: {score}\")\n",
    "    \n",
    "    elif game_state == \"success\":\n",
    "        # Wait a moment before next round\n",
    "        time.sleep(1)\n",
    "        game_state = \"waiting\"\n",
    "    \n",
    "    elif game_state == \"failed\":\n",
    "        # Wait a moment before next round\n",
    "        time.sleep(1)\n",
    "        game_state = \"waiting\"\n",
    "    \n",
    "    time.sleep(0.01)\n",
    "\n",
    "print(f\"\\n🎉 Game Over! Final Score: {score}\")"
   ]
  },
  {
   "cell_type": "markdown",
   "metadata": {},
   "source": [
    "### Answer"
   ]
  },
  {
   "cell_type": "code",
   "execution_count": 15,
   "metadata": {},
   "outputs": [
    {
     "name": "stdout",
     "output_type": "stream",
     "text": [
      "🎮 Press to Turn Off Challenge Game\n",
      "=====================================\n",
      "Rules: LED lights up randomly. Press button within 3 seconds to turn it off!\n",
      "Game runs for 30 seconds. Press Ctrl+C to stop early.\n",
      "\n",
      "💡 LED LIT UP! Press the button quickly!\n",
      "✅ Success! Score: 1\n",
      "💡 LED LIT UP! Press the button quickly!\n",
      "✅ Success! Score: 2\n",
      "💡 LED LIT UP! Press the button quickly!\n",
      "✅ Success! Score: 3\n",
      "💡 LED LIT UP! Press the button quickly!\n",
      "❌ Too slow! Score: 3\n",
      "💡 LED LIT UP! Press the button quickly!\n"
     ]
    },
    {
     "ename": "KeyboardInterrupt",
     "evalue": "",
     "output_type": "error",
     "traceback": [
      "\u001b[0;31m---------------------------------------------------------------------------\u001b[0m",
      "\u001b[0;31mKeyboardInterrupt\u001b[0m                         Traceback (most recent call last)",
      "Cell \u001b[0;32mIn[15], line 50\u001b[0m\n\u001b[1;32m     47\u001b[0m         time\u001b[38;5;241m.\u001b[39msleep(\u001b[38;5;241m1\u001b[39m)\n\u001b[1;32m     48\u001b[0m         game_state \u001b[38;5;241m=\u001b[39m \u001b[38;5;124m\"\u001b[39m\u001b[38;5;124mwaiting\u001b[39m\u001b[38;5;124m\"\u001b[39m\n\u001b[0;32m---> 50\u001b[0m     \u001b[43mtime\u001b[49m\u001b[38;5;241;43m.\u001b[39;49m\u001b[43msleep\u001b[49m\u001b[43m(\u001b[49m\u001b[38;5;241;43m0.01\u001b[39;49m\u001b[43m)\u001b[49m\n\u001b[1;32m     52\u001b[0m \u001b[38;5;28mprint\u001b[39m(\u001b[38;5;124mf\u001b[39m\u001b[38;5;124m\"\u001b[39m\u001b[38;5;130;01m\\n\u001b[39;00m\u001b[38;5;124m🎉 Game Over! Final Score: \u001b[39m\u001b[38;5;132;01m{\u001b[39;00mscore\u001b[38;5;132;01m}\u001b[39;00m\u001b[38;5;124m\"\u001b[39m)\n",
      "\u001b[0;31mKeyboardInterrupt\u001b[0m: "
     ]
    }
   ],
   "source": [
    "import random\n",
    "\n",
    "print(\"🎮 Press to Turn Off Challenge Game\")\n",
    "print(\"=====================================\")\n",
    "print(\"Rules: LED lights up randomly. Press button within 3 seconds to turn it off!\")\n",
    "print(\"Game runs for 30 seconds. Press Ctrl+C to stop early.\")\n",
    "print()\n",
    "\n",
    "score = 0\n",
    "game_start_time = time.time()\n",
    "led_light_time = None\n",
    "game_state = \"waiting\"  # waiting, led_on, success, failed\n",
    "\n",
    "while time.time() - game_start_time < 30:\n",
    "    current_time = time.time()\n",
    "    button_pressed = GPIO.input(6) == GPIO.LOW\n",
    "    \n",
    "    if game_state == \"waiting\":\n",
    "        # Randomly decide to light up LED\n",
    "        if random.random() < 0.2:  # 2% chance each loop\n",
    "            led_on()\n",
    "            led_light_time = current_time\n",
    "            game_state = \"led_on\"\n",
    "            print(\"💡 LED LIT UP! Press the button quickly!\")\n",
    "    \n",
    "    elif game_state == \"led_on\":\n",
    "        # Check if button was pressed\n",
    "        if button_pressed:\n",
    "            led_off()\n",
    "            game_state = \"success\"\n",
    "            score += 1\n",
    "            print(f\"✅ Success! Score: {score}\")\n",
    "        \n",
    "        # Check if time ran out (3 seconds)\n",
    "        elif current_time - led_light_time > 3:\n",
    "            led_off()\n",
    "            game_state = \"failed\"\n",
    "            print(f\"❌ Too slow! Score: {score}\")\n",
    "    \n",
    "    elif game_state == \"success\":\n",
    "        # Wait a moment before next round\n",
    "        time.sleep(1)\n",
    "        game_state = \"waiting\"\n",
    "    \n",
    "    elif game_state == \"failed\":\n",
    "        # Wait a moment before next round\n",
    "        time.sleep(1)\n",
    "        game_state = \"waiting\"\n",
    "    \n",
    "    time.sleep(0.01)\n",
    "\n",
    "print(f\"\\n🎉 Game Over! Final Score: {score}\")"
   ]
  },
  {
   "cell_type": "markdown",
   "metadata": {},
   "source": [
    "## Exercise 8: Clean Up Resources\n",
    "\n",
    "**Objective:** Properly clean up GPIO resources when done\n",
    "\n",
    "**Instructions:** Complete the code below to close the LED and button objects"
   ]
  },
  {
   "cell_type": "code",
   "execution_count": null,
   "metadata": {},
   "outputs": [],
   "source": [
    "# Complete these lines to close the objects:\n",
    "# Your code here...\n",
    "# Hint: led.close()\n",
    "# Hint: button.close()\n",
    "\n",
    "print(\"✅ LED and Button resources cleaned up\")\n",
    "print(\"\\nTutorial completed! 🎉\")"
   ]
  },
  {
   "cell_type": "markdown",
   "metadata": {
    "jp-MarkdownHeadingCollapsed": true
   },
   "source": [
    "### Answer"
   ]
  },
  {
   "cell_type": "code",
   "execution_count": null,
   "metadata": {},
   "outputs": [],
   "source": [
    "led.close()\n",
    "button.close()\n",
    "\n",
    "print(\"✅ LED and Button resources cleaned up\")\n",
    "print(\"\\nTutorial completed! 🎉\")"
   ]
  },
  {
   "cell_type": "markdown",
   "metadata": {},
   "source": [
    "## Challenges\n",
    "\n",
    "### Challenge 1: LED Dimming with PWM\n",
    "\n",
    "**Objective:** Create a breathing LED effect using PWM (Pulse Width Modulation)\n",
    "\n",
    "**Instructions:** Use `PWMLED` instead of `LED` to create a smooth dimming effect\n",
    "\n",
    "**Hints:** Use `led.value` to set brightness (0.0 to 1.0)"
   ]
  },
  {
   "cell_type": "code",
   "execution_count": null,
   "metadata": {},
   "outputs": [],
   "source": [
    "from gpiozero import PWMLED\n",
    "\n",
    "# Create PWM LED object\n",
    "pwm_led = PWMLED(18)\n",
    "\n",
    "print(\"Breathing LED Effect\")\n",
    "print(\"===================\")\n",
    "print(\"Watch the LED breathe in and out...\")\n",
    "print()\n",
    "\n",
    "# Write your code here to create breathing effect\n",
    "# Gradually increase brightness from 0 to 1, then decrease back to 0\n",
    "# Use a loop with small steps and delays\n",
    "\n",
    "pwm_led.close()"
   ]
  },
  {
   "cell_type": "markdown",
   "metadata": {},
   "source": [
    "### Answer"
   ]
  },
  {
   "cell_type": "code",
   "execution_count": 18,
   "metadata": {},
   "outputs": [
    {
     "name": "stdout",
     "output_type": "stream",
     "text": [
      "Breathing LED Effect\n",
      "===================\n",
      "Watch the LED breathe in and out...\n",
      "\n",
      "Breath cycle 1/5\n",
      "Breath cycle 2/5\n",
      "Breath cycle 3/5\n",
      "Breath cycle 4/5\n",
      "Breath cycle 5/5\n"
     ]
    }
   ],
   "source": [
    "from gpiozero import PWMLED\n",
    "\n",
    "# Create PWM LED object\n",
    "pwm_led = PWMLED(18)\n",
    "\n",
    "print(\"Breathing LED Effect\")\n",
    "print(\"===================\")\n",
    "print(\"Watch the LED breathe in and out...\")\n",
    "print()\n",
    "\n",
    "# Breathing effect\n",
    "for i in range(5):  # 5 breath cycles\n",
    "    print(f\"Breath cycle {i+1}/5\")\n",
    "    \n",
    "    # Fade in (0 to 1)\n",
    "    for brightness in range(0, 101, 2):\n",
    "        pwm_led.value = brightness / 100\n",
    "        time.sleep(0.02)\n",
    "    \n",
    "    # Fade out (1 to 0)\n",
    "    for brightness in range(100, -1, -2):\n",
    "        pwm_led.value = brightness / 100\n",
    "        time.sleep(0.02)\n",
    "\n",
    "pwm_led.close()"
   ]
  },
  {
   "cell_type": "markdown",
   "metadata": {},
   "source": [
    "### Challenge 2: Reaction Time Game\n",
    "\n",
    "**Objective:** Measure player's reaction time to button press\n",
    "\n",
    "**Instructions:** Create a game that measures how fast the player can press the button after LED lights up"
   ]
  },
  {
   "cell_type": "code",
   "execution_count": null,
   "metadata": {},
   "outputs": [],
   "source": [
    "print(\"⚡ Reaction Time Game\")\n",
    "print(\"==================\")\n",
    "print(\"Press the button as fast as possible when LED lights up!\")\n",
    "print()\n",
    "\n",
    "# Write your code here to measure reaction time\n",
    "# 1. Wait random time (1-5 seconds)\n",
    "# 2. Light up LED and start timer\n",
    "# 3. Wait for button press\n",
    "# 4. Calculate and display reaction time\n",
    "# 5. Repeat 5 times and show average\n",
    "\n",
    "print(\"\\nGame completed!\")"
   ]
  },
  {
   "cell_type": "markdown",
   "metadata": {},
   "source": [
    "### Answer"
   ]
  },
  {
   "cell_type": "code",
   "execution_count": null,
   "metadata": {},
   "outputs": [],
   "source": [
    "print(\"⚡ Reaction Time Game\")\n",
    "print(\"==================\")\n",
    "print(\"Press the button as fast as possible when LED lights up!\")\n",
    "print()\n",
    "\n",
    "reaction_times = []\n",
    "\n",
    "for round_num in range(5):\n",
    "    print(f\"\\nRound {round_num + 1}/5\")\n",
    "    print(\"Get ready...\")\n",
    "    \n",
    "    # Random delay (1-5 seconds)\n",
    "    delay = random.uniform(1, 5)\n",
    "    time.sleep(delay)\n",
    "    \n",
    "    # Light up LED and start timer\n",
    "    led.on()\n",
    "    start_time = time.time()\n",
    "    print(\"💡 GO!\")\n",
    "    \n",
    "    # Wait for button press\n",
    "    while not button.is_pressed:\n",
    "        time.sleep(0.001)\n",
    "    \n",
    "    # Calculate reaction time\n",
    "    reaction_time = (time.time() - start_time) * 1000  # Convert to milliseconds\n",
    "    reaction_times.append(reaction_time)\n",
    "    \n",
    "    led.off()\n",
    "    print(f\"Reaction time: {reaction_time:.1f} ms\")\n",
    "    \n",
    "    time.sleep(1)\n",
    "\n",
    "# Show results\n",
    "avg_time = sum(reaction_times) / len(reaction_times)\n",
    "print(f\"\\n🎯 Average reaction time: {avg_time:.1f} ms\")\n",
    "print(f\"Best time: {min(reaction_times):.1f} ms\")\n",
    "print(f\"Worst time: {max(reaction_times):.1f} ms\")"
   ]
  },
  {
   "cell_type": "markdown",
   "metadata": {},
   "source": [
    "## Congratulations! 🎉\n",
    "\n",
    "You have successfully completed the Raspberry Pi LED Control Tutorial!\n",
    "\n",
    "### What You've Learned:\n",
    "- How to wire up LED arcade button lights to Raspberry Pi\n",
    "- How to create interactive button-LED games\n",
    "- How to build a \"press to turn off\" challenge game\n",
    "- How to properly clean up GPIO resources\n",
    "\n",
    "### Next Steps:\n",
    "- Try the challenges above\n",
    "- Experiment with different LED patterns\n",
    "- Move on to multiple buttons tutorial\n",
    "- Build the full LED racing game!\n",
    "\n",
    "### Troubleshooting Tips:\n",
    "- If LED doesn't light up, check your wiring\n",
    "- Make sure you're running on a Raspberry Pi\n",
    "- Verify the LED polarity (anode/cathode)\n",
    "- Check GPIO permissions if you get errors\n",
    "- **If you get \"pin already in use\" errors:**\n",
    "  - Restart the Jupyter kernel (Kernel → Restart)\n",
    "  - Run the GPIO cleanup cell at the beginning\n",
    "  - Or run the `reset_gpio.py` script before starting the notebook"
   ]
  }
 ],
 "metadata": {
  "kernelspec": {
   "display_name": "Python 3 (ipykernel)",
   "language": "python",
   "name": "python3"
  },
  "language_info": {
   "codemirror_mode": {
    "name": "ipython",
    "version": 3
   },
   "file_extension": ".py",
   "mimetype": "text/x-python",
   "name": "python",
   "nbconvert_exporter": "python",
   "pygments_lexer": "ipython3",
   "version": "3.9.2"
  }
 },
 "nbformat": 4,
 "nbformat_minor": 4
}
