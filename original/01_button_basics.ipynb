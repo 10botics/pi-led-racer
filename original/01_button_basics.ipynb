{
 "cells": [
  {
   "cell_type": "markdown",
   "metadata": {},
   "source": [
    "# Raspberry Pi Button Testing Tutorial\n",
    "\n",
    "## Learning Objectives\n",
    "\n",
    "In this lesson, you will learn:\n",
    "\n",
    "1. Wire up a 100mm arcade button to Raspberry Pi\n",
    "2. Use the `RPi.GPIO` library to detect button presses\n",
    "3. Understand button states and transitions\n",
    "4. Handle button debouncing and error conditions\n",
    "5. Create interactive button detection programs\n",
    "6. Clean up GPIO resources properly"
   ]
  },
  {
   "cell_type": "markdown",
   "metadata": {},
   "source": [
    "## Hardware Setup\n",
    "\n",
    "Before we start coding, you need to wire up your button:\n",
    "\n",
    "<img src=\"../images/microswitch.png\" width=600/>\n",
    "\n",
    "### Wiring Diagram\n",
    "```\n",
    "Raspberry Pi    Arcade Button\n",
    "GND     -----> COM (Common)\n",
    "GPIO 6  -----> NO (Normally Open)\n",
    "```\n",
    "\n",
    "### Steps:\n",
    "1. Connect the button's **COM** (common) terminal to Raspberry Pi **GND**\n",
    "2. Connect the button's **NO** (normally open) terminal to Raspberry Pi **GPIO 6**\n",
    "3. Make sure your Raspberry Pi is powered on\n",
    "\n",
    "**Note:** We're using BCM pin numbering (GPIO 6), not physical pin numbers."
   ]
  },
  {
   "cell_type": "markdown",
   "metadata": {},
   "source": [
    "## Step 1: Install Libraries"
   ]
  },
  {
   "cell_type": "code",
   "execution_count": 1,
   "metadata": {},
   "outputs": [
    {
     "name": "stdout",
     "output_type": "stream",
     "text": [
      "Looking in indexes: https://pypi.org/simple, https://www.piwheels.org/simple\n",
      "Requirement already satisfied: RPi.GPIO in /usr/lib/python3/dist-packages (0.7.0)\n",
      "\n",
      "\u001b[1m[\u001b[0m\u001b[34;49mnotice\u001b[0m\u001b[1;39;49m]\u001b[0m\u001b[39;49m A new release of pip is available: \u001b[0m\u001b[31;49m23.1.2\u001b[0m\u001b[39;49m -> \u001b[0m\u001b[32;49m25.1.1\u001b[0m\n",
      "\u001b[1m[\u001b[0m\u001b[34;49mnotice\u001b[0m\u001b[1;39;49m]\u001b[0m\u001b[39;49m To update, run: \u001b[0m\u001b[32;49mpython -m pip install --upgrade pip\u001b[0m\n",
      "Note: you may need to restart the kernel to use updated packages.\n"
     ]
    }
   ],
   "source": [
    "pip install RPi.GPIO"
   ]
  },
  {
   "cell_type": "markdown",
   "metadata": {},
   "source": [
    "## Step 2: Import Required Libraries\n",
    "\n",
    "**Objective:** Import the necessary libraries for button handling\n",
    "\n",
    "**Instructions:** Import the required libraries: `time`, `RPi.GPIO as GPIO`, and `sys`"
   ]
  },
  {
   "cell_type": "code",
   "execution_count": 1,
   "metadata": {},
   "outputs": [
    {
     "name": "stdout",
     "output_type": "stream",
     "text": [
      "Version: 0.7.0\n",
      "✅ Libraries imported successfully\n"
     ]
    }
   ],
   "source": [
    "import RPi.GPIO as GPIO\n",
    "print(f\"Version: {GPIO.VERSION}\")\n",
    "\n",
    "print(\"✅ Libraries imported successfully\")"
   ]
  },
  {
   "cell_type": "markdown",
   "metadata": {},
   "source": [
    "## Exercise 3: Setup GPIO Configuration\n",
    "\n",
    "**Objective:** Configure GPIO for button input\n",
    "\n",
    "**Instructions:** Complete the code below to setup GPIO for button detection\n",
    "\n",
    "**About the parameters:**\n",
    "- `GPIO.setmode(GPIO.BCM)`: Use BCM pin numbering (GPIO 6, not physical pin 31)\n",
    "- `GPIO.setup(6, GPIO.IN, pull_up_down=GPIO.PUD_UP)`: Configure pin as input with pull-up resistor\n",
    "- `GPIO.PUD_UP`: Internal resistor keeps pin HIGH when not pressed (prevents false readings)"
   ]
  },
  {
   "cell_type": "code",
   "execution_count": null,
   "metadata": {},
   "outputs": [],
   "source": [
    "# Fix the code below using the hint above\n",
    "\n",
    "GPIO.setmode()\n",
    "GPIO.setup()\n",
    "\n",
    "print(\"✅ GPIO configured for button input\")\n",
    "print(f\"Button pin: GPIO 6 (BCM)\")\n",
    "print(f\"Pull-up resistor: Enabled\")"
   ]
  },
  {
   "cell_type": "markdown",
   "metadata": {},
   "source": [
    "### Answer"
   ]
  },
  {
   "cell_type": "code",
   "execution_count": 2,
   "metadata": {},
   "outputs": [
    {
     "name": "stdout",
     "output_type": "stream",
     "text": [
      "✅ GPIO configured for button input\n",
      "Button pin: GPIO 6 (BCM)\n",
      "Pull-up resistor: Enabled\n"
     ]
    }
   ],
   "source": [
    "GPIO.setmode(GPIO.BCM)\n",
    "GPIO.setup(6, GPIO.IN, pull_up_down=GPIO.PUD_UP)\n",
    "\n",
    "print(\"✅ GPIO configured for button input\")\n",
    "print(f\"Button pin: GPIO 6 (BCM)\")\n",
    "print(f\"Pull-up resistor: Enabled\")"
   ]
  },
  {
   "cell_type": "markdown",
   "metadata": {},
   "source": [
    "## Exercise 4: Understand Button States\n",
    "\n",
    "**Objective:** Learn how button states work and display current state\n",
    "\n",
    "**Instructions:** Complete the code below to show the current button state\n",
    "\n",
    "**About button states:**\n",
    "- `GPIO.input(6)` returns `GPIO.HIGH` (1) when button is NOT pressed\n",
    "- `GPIO.input(6)` returns `GPIO.LOW` (0) when button IS pressed\n",
    "- With `GPIO.PUD_UP`, the pin reads HIGH when not pressed and LOW when pressed"
   ]
  },
  {
   "cell_type": "code",
   "execution_count": 5,
   "metadata": {},
   "outputs": [
    {
     "ename": "SyntaxError",
     "evalue": "invalid syntax (4098783785.py, line 3)",
     "output_type": "error",
     "traceback": [
      "\u001b[0;36m  Cell \u001b[0;32mIn[5], line 3\u001b[0;36m\u001b[0m\n\u001b[0;31m    button_state =\u001b[0m\n\u001b[0m                   ^\u001b[0m\n\u001b[0;31mSyntaxError\u001b[0m\u001b[0;31m:\u001b[0m invalid syntax\n"
     ]
    }
   ],
   "source": [
    "print(\"Current button state:\")\n",
    "\n",
    "button_state = ???\n",
    "print(f\"Raw pin value: {button_state}\")\n",
    "\n",
    "# button_pressed should return False if not pressed. Compare button_state with GPIO.LOW\n",
    "if button_state == ???:\n",
    "    button_pressed = ????\n",
    "    \n",
    "print(f\"Button pressed: {button_pressed}\")"
   ]
  },
  {
   "cell_type": "markdown",
   "metadata": {},
   "source": [
    "### Answer"
   ]
  },
  {
   "cell_type": "code",
   "execution_count": 8,
   "metadata": {},
   "outputs": [
    {
     "name": "stdout",
     "output_type": "stream",
     "text": [
      "Current button state:\n",
      "Raw pin value: 0\n",
      "Button pressed: True\n"
     ]
    }
   ],
   "source": [
    "print(\"Current button state:\")\n",
    "\n",
    "button_state = GPIO.input(6)\n",
    "print(f\"Raw pin value: {button_state}\")\n",
    "\n",
    "# button_pressed should return False if not pressed. How to use button_state to make a comparison?\n",
    "if button_state == GPIO.LOW:\n",
    "    button_pressed = True\n",
    "else:\n",
    "    button_pressed = False\n",
    "    \n",
    "print(f\"Button pressed: {button_pressed}\")"
   ]
  },
  {
   "cell_type": "markdown",
   "metadata": {},
   "source": [
    "## Exercise 5: Simple Button Press Detection\n",
    "\n",
    "**Objective:** Create a loop that detects button presses and releases\n",
    "\n",
    "**Instructions:** Complete the code below to detect button presses and releases for 10 seconds\n",
    "\n",
    "**About the code:**\n",
    "- We track the previous state to detect changes\n",
    "- When `current_state` is `GPIO.LOW` and `last_state` is `GPIO.HIGH`, the button was just pressed\n",
    "- When `current_state` is `GPIO.HIGH` and `last_state` is `GPIO.LOW`, the button was just released"
   ]
  },
  {
   "cell_type": "code",
   "execution_count": 10,
   "metadata": {},
   "outputs": [
    {
     "name": "stdout",
     "output_type": "stream",
     "text": [
      "Simple Button Press Detection\n",
      "============================\n",
      "Press the button to see the output...\n",
      "\n"
     ]
    },
    {
     "ename": "NameError",
     "evalue": "name 'time' is not defined",
     "output_type": "error",
     "traceback": [
      "\u001b[0;31m---------------------------------------------------------------------------\u001b[0m",
      "\u001b[0;31mNameError\u001b[0m                                 Traceback (most recent call last)",
      "Cell \u001b[0;32mIn[10], line 10\u001b[0m\n\u001b[1;32m      7\u001b[0m last_state \u001b[38;5;241m=\u001b[39m GPIO\u001b[38;5;241m.\u001b[39mHIGH  \u001b[38;5;66;03m# Start with button not pressed\u001b[39;00m\n\u001b[1;32m      9\u001b[0m \u001b[38;5;66;03m# Run for 10 seconds to test\u001b[39;00m\n\u001b[0;32m---> 10\u001b[0m start_time \u001b[38;5;241m=\u001b[39m \u001b[43mtime\u001b[49m\u001b[38;5;241m.\u001b[39mtime()\n\u001b[1;32m     12\u001b[0m \u001b[38;5;28;01mwhile\u001b[39;00m time\u001b[38;5;241m.\u001b[39mtime() \u001b[38;5;241m-\u001b[39m start_time \u001b[38;5;241m<\u001b[39m \u001b[38;5;241m10\u001b[39m:\n\u001b[1;32m     13\u001b[0m     \u001b[38;5;66;03m# Your code here...\u001b[39;00m\n\u001b[1;32m     14\u001b[0m     \n\u001b[1;32m     15\u001b[0m     \n\u001b[1;32m     16\u001b[0m     \u001b[38;5;66;03m# Detect button press (transition from HIGH to LOW)\u001b[39;00m\n\u001b[1;32m     17\u001b[0m     \u001b[38;5;28;01mif\u001b[39;00m current_state \u001b[38;5;241m==\u001b[39m GPIO\u001b[38;5;241m.\u001b[39mLOW \u001b[38;5;129;01mand\u001b[39;00m last_state \u001b[38;5;241m==\u001b[39m GPIO\u001b[38;5;241m.\u001b[39mHIGH:\n",
      "\u001b[0;31mNameError\u001b[0m: name 'time' is not defined"
     ]
    }
   ],
   "source": [
    "import time\n",
    "print(\"Simple Button Press Detection\")\n",
    "print(\"============================\")\n",
    "print(\"Press the button to see the output...\")\n",
    "print()\n",
    "\n",
    "press_count = 0\n",
    "last_state = GPIO.HIGH  # Start with button not pressed\n",
    "\n",
    "# Run for 10 seconds to test\n",
    "start_time = time.time()\n",
    "\n",
    "while time.time() - start_time < 10:\n",
    "    current_state = ????\n",
    "    \n",
    "    \n",
    "    # Detect button press (transition from HIGH to LOW)\n",
    "    if current_state == GPIO.LOW and last_state == GPIO.HIGH:\n",
    "        press_count += 1\n",
    "        print(f\"🔘 Button PRESSED! (Press #{press_count})\")\n",
    "    \n",
    "    # Detect button release (transition from LOW to HIGH)\n",
    "    elif current_state == GPIO.HIGH and last_state == GPIO.LOW:\n",
    "        print(f\"   Button released\")\n",
    "    \n",
    "    last_state = current_state\n",
    "    time.sleep(0.01)  # 10ms polling interval\n",
    "\n",
    "print(f\"\\nTest completed! Total presses detected: {press_count}\")"
   ]
  },
  {
   "cell_type": "markdown",
   "metadata": {},
   "source": [
    "### Answer"
   ]
  },
  {
   "cell_type": "code",
   "execution_count": 12,
   "metadata": {},
   "outputs": [
    {
     "name": "stdout",
     "output_type": "stream",
     "text": [
      "🔘 Button PRESSED! (Press #1)\n",
      "   Button released\n",
      "🔘 Button PRESSED! (Press #2)\n",
      "   Button released\n",
      "🔘 Button PRESSED! (Press #3)\n",
      "   Button released\n",
      "🔘 Button PRESSED! (Press #4)\n",
      "   Button released\n",
      "\n",
      "Test completed! Total presses detected: 4\n"
     ]
    }
   ],
   "source": [
    "import time\n",
    "\n",
    "press_count = 0\n",
    "last_state = GPIO.HIGH  # Start with button not pressed\n",
    "\n",
    "# Run for 10 seconds to test\n",
    "start_time = time.time()\n",
    "\n",
    "while time.time() - start_time < 10:\n",
    "    current_state = GPIO.input(6)\n",
    "    \n",
    "    # Detect button press (transition from HIGH to LOW)\n",
    "    if current_state == GPIO.LOW and last_state == GPIO.HIGH:\n",
    "        press_count += 1\n",
    "        print(f\"🔘 Button PRESSED! (Press #{press_count})\")\n",
    "    \n",
    "    # Detect button release (transition from LOW to HIGH)\n",
    "    elif current_state == GPIO.HIGH and last_state == GPIO.LOW:\n",
    "        print(f\"   Button released\")\n",
    "    \n",
    "    last_state = current_state\n",
    "    time.sleep(0.01)  # 10ms polling interval\n",
    "\n",
    "print(f\"\\nTest completed! Total presses detected: {press_count}\")"
   ]
  },
  {
   "cell_type": "markdown",
   "metadata": {},
   "source": [
    "## Exercise 7: Interactive Button Counter\n",
    "\n",
    "**Objective:** Create an interactive program that counts button presses until interrupted\n",
    "\n",
    "**Instructions:** Complete the code below to create an interactive button counter\n",
    "\n",
    "**About the code:**\n",
    "- This runs forever until you press Ctrl+C to stop it\n",
    "- It counts each button press and shows the total\n",
    "- The logic is the same as the previous exercise, but without a time limit"
   ]
  },
  {
   "cell_type": "code",
   "execution_count": null,
   "metadata": {},
   "outputs": [],
   "source": [
    "print(\"Interactive Button Counter\")\n",
    "print(\"========================\")\n",
    "print(\"Press the button multiple times to test...\")\n",
    "print(\"Press Ctrl+C to stop\")\n",
    "print()\n",
    "\n",
    "press_count = 0\n",
    "last_state = GPIO.HIGH\n",
    "\n",
    "while True:\n",
    "    # Complete this line to get current button state:\n",
    "    # Your code here...\n",
    "    # Hint: current_state = GPIO.input(5)\n",
    "    \n",
    "    # Detect button press\n",
    "    if current_state == GPIO.LOW and last_state == GPIO.HIGH:\n",
    "        press_count += 1\n",
    "        print(f\"🔘 Press #{press_count} detected!\")\n",
    "    \n",
    "    # Detect button release\n",
    "    elif current_state == GPIO.HIGH and last_state == GPIO.LOW:\n",
    "        print(f\"   Released\")\n",
    "    \n",
    "    last_state = current_state\n",
    "    time.sleep(0.01)\n",
    "\n",
    "print(f\"\\nTest stopped. Total presses: {press_count}\")"
   ]
  },
  {
   "cell_type": "markdown",
   "metadata": {},
   "source": [
    "### Answer"
   ]
  },
  {
   "cell_type": "code",
   "execution_count": null,
   "metadata": {},
   "outputs": [
    {
     "name": "stdout",
     "output_type": "stream",
     "text": [
      "Interactive Button Counter\n",
      "========================\n",
      "Press the button multiple times to test...\n",
      "Press Ctrl+C to stop\n",
      "\n",
      "🔘 Press #1 detected!\n",
      "   Released\n",
      "🔘 Press #2 detected!\n",
      "   Released\n",
      "🔘 Press #3 detected!\n",
      "   Released\n",
      "🔘 Press #4 detected!\n",
      "   Released\n",
      "🔘 Press #5 detected!\n",
      "   Released\n"
     ]
    }
   ],
   "source": [
    "print(\"Interactive Button Counter\")\n",
    "print(\"========================\")\n",
    "print(\"Press the button multiple times to test...\")\n",
    "print(\"Press Ctrl+C to stop\")\n",
    "print()\n",
    "\n",
    "press_count = 0\n",
    "last_state = GPIO.HIGH\n",
    "\n",
    "while True:\n",
    "    current_state = GPIO.input(6)\n",
    "    \n",
    "    # Detect button press\n",
    "    if current_state == GPIO.LOW and last_state == GPIO.HIGH:\n",
    "        press_count += 1\n",
    "        print(f\"🔘 Press #{press_count} detected!\")\n",
    "    \n",
    "    # Detect button release\n",
    "    elif current_state == GPIO.HIGH and last_state == GPIO.LOW:\n",
    "        print(f\"   Released\")\n",
    "    \n",
    "    last_state = current_state\n",
    "    time.sleep(0.01)\n",
    "\n",
    "print(f\"\\nTest stopped. Total presses: {press_count}\")"
   ]
  },
  {
   "cell_type": "markdown",
   "metadata": {},
   "source": [
    "## Exercise 8: Clean Up Resources\n",
    "\n",
    "**Objective:** Properly clean up GPIO resources when done\n",
    "\n",
    "**Instructions:** Complete the code below to clean up GPIO resources"
   ]
  },
  {
   "cell_type": "code",
   "execution_count": null,
   "metadata": {},
   "outputs": [],
   "source": [
    "# Complete this line to clean up GPIO:\n",
    "# Your code here...\n",
    "# Hint: GPIO.cleanup()\n",
    "\n",
    "print(\"✅ GPIO resources cleaned up\")\n",
    "print(\"\\nTutorial completed! 🎉\")"
   ]
  },
  {
   "cell_type": "markdown",
   "metadata": {
    "jp-MarkdownHeadingCollapsed": true
   },
   "source": [
    "### Answer"
   ]
  },
  {
   "cell_type": "code",
   "execution_count": null,
   "metadata": {},
   "outputs": [],
   "source": [
    "GPIO.cleanup()\n",
    "\n",
    "print(\"✅ GPIO resources cleaned up\")\n",
    "print(\"\\nTutorial completed! 🎉\")"
   ]
  },
  {
   "cell_type": "markdown",
   "metadata": {},
   "source": [
    "## Challenges\n",
    "\n",
    "### Challenge 1: Button Hold Detection\n",
    "\n",
    "**Objective:** Detect when a button is held down for more than 2 seconds\n",
    "\n",
    "**Instructions:** Create code to detect when the button is held for 2+ seconds\n",
    "\n",
    "**Hints:** Track the time when the button was first pressed using `time.time()`"
   ]
  },
  {
   "cell_type": "code",
   "execution_count": null,
   "metadata": {},
   "outputs": [],
   "source": [
    "# Setup GPIO again for challenge\n",
    "GPIO.setmode(GPIO.BCM)\n",
    "GPIO.setup(5, GPIO.IN, pull_up_down=GPIO.PUD_UP)\n",
    "\n",
    "print(\"Button Hold Detection\")\n",
    "print(\"====================\")\n",
    "print(\"Hold the button for 2+ seconds to test...\")\n",
    "print()\n",
    "\n",
    "# Write your code here to detect button holds\n",
    "# Track when button is pressed and check if held for 2+ seconds\n",
    "\n",
    "# Variables you might need:\n",
    "# press_start_time = None\n",
    "# hold_detected = False\n",
    "# last_state = GPIO.HIGH\n",
    "\n",
    "# Your code here...\n",
    "\n",
    "GPIO.cleanup()"
   ]
  },
  {
   "cell_type": "markdown",
   "metadata": {},
   "source": [
    "### Answer"
   ]
  },
  {
   "cell_type": "code",
   "execution_count": null,
   "metadata": {},
   "outputs": [],
   "source": [
    "GPIO.setmode(GPIO.BCM)\n",
    "GPIO.setup(5, GPIO.IN, pull_up_down=GPIO.PUD_UP)\n",
    "\n",
    "print(\"Button Hold Detection\")\n",
    "print(\"====================\")\n",
    "print(\"Hold the button for 2+ seconds to test...\")\n",
    "print()\n",
    "\n",
    "press_start_time = None\n",
    "hold_detected = False\n",
    "last_state = GPIO.HIGH\n",
    "\n",
    "while True:\n",
    "    current_state = GPIO.input(5)\n",
    "    current_time = time.time()\n",
    "    \n",
    "    # Button just pressed\n",
    "    if current_state == GPIO.LOW and last_state == GPIO.HIGH:\n",
    "        press_start_time = current_time\n",
    "        hold_detected = False\n",
    "        print(\"🔘 Button pressed - start timing...\")\n",
    "    \n",
    "    # Button held down\n",
    "    elif current_state == GPIO.LOW and last_state == GPIO.LOW and press_start_time:\n",
    "        hold_duration = current_time - press_start_time\n",
    "        if hold_duration >= 2.0 and not hold_detected:\n",
    "            hold_detected = True\n",
    "            print(f\"⚠️  Button held for {hold_duration:.1f} seconds!\")\n",
    "    \n",
    "    # Button released\n",
    "    elif current_state == GPIO.HIGH and last_state == GPIO.LOW:\n",
    "        if press_start_time:\n",
    "            total_duration = current_time - press_start_time\n",
    "            print(f\"   Button released after {total_duration:.1f} seconds\")\n",
    "        press_start_time = None\n",
    "    \n",
    "    last_state = current_state\n",
    "    time.sleep(0.01)\n",
    "\n",
    "GPIO.cleanup()"
   ]
  },
  {
   "cell_type": "markdown",
   "metadata": {},
   "source": [
    "### Challenge 2: Multiple Button Detection\n",
    "\n",
    "**Objective:** Detect multiple buttons pressed simultaneously\n",
    "\n",
    "**Instructions:** Setup multiple GPIO pins and monitor all buttons for combinations\n",
    "\n",
    "**Hints:** Create a list of pins and check their states in a loop"
   ]
  },
  {
   "cell_type": "code",
   "execution_count": null,
   "metadata": {},
   "outputs": [],
   "source": [
    "# Setup multiple button pins (GPIO 5, 2, 3, 4)\n",
    "GPIO.setmode(GPIO.BCM)\n",
    "button_pins = [5, 2, 3, 4]\n",
    "\n",
    "for pin in button_pins:\n",
    "    GPIO.setup(pin, GPIO.IN, pull_up_down=GPIO.PUD_UP)\n",
    "\n",
    "print(\"Multiple Button Detection\")\n",
    "print(\"=======================\")\n",
    "print(\"Press any combination of buttons...\")\n",
    "print()\n",
    "\n",
    "# Write your code here to monitor all buttons\n",
    "# Check which buttons are pressed and display combinations\n",
    "\n",
    "# Variables you might need:\n",
    "# last_states = [GPIO.HIGH] * len(button_pins)\n",
    "\n",
    "# Your code here...\n",
    "\n",
    "GPIO.cleanup()"
   ]
  },
  {
   "cell_type": "markdown",
   "metadata": {},
   "source": [
    "### Answer"
   ]
  },
  {
   "cell_type": "code",
   "execution_count": null,
   "metadata": {},
   "outputs": [],
   "source": [
    "GPIO.setmode(GPIO.BCM)\n",
    "button_pins = [5, 2, 3, 4]\n",
    "\n",
    "for pin in button_pins:\n",
    "    GPIO.setup(pin, GPIO.IN, pull_up_down=GPIO.PUD_UP)\n",
    "\n",
    "print(\"Multiple Button Detection\")\n",
    "print(\"=======================\")\n",
    "print(\"Press any combination of buttons...\")\n",
    "print()\n",
    "\n",
    "last_states = [GPIO.HIGH] * len(button_pins)\n",
    "\n",
    "while True:\n",
    "    current_states = [GPIO.input(pin) for pin in button_pins]\n",
    "    \n",
    "    # Check each button for state changes\n",
    "    for i, (current, last) in enumerate(zip(current_states, last_states)):\n",
    "        if current == GPIO.LOW and last == GPIO.HIGH:\n",
    "            print(f\"🔘 Button {i+1} pressed\")\n",
    "        elif current == GPIO.HIGH and last == GPIO.LOW:\n",
    "            print(f\"   Button {i+1} released\")\n",
    "    \n",
    "    # Show current combination\n",
    "    pressed_buttons = [i+1 for i, pressed in enumerate(current_states) if pressed == GPIO.LOW]\n",
    "    if pressed_buttons:\n",
    "        print(f\"   Currently pressed: {pressed_buttons}\")\n",
    "    \n",
    "    last_states = current_states.copy()\n",
    "    time.sleep(0.01)\n",
    "\n",
    "GPIO.cleanup()"
   ]
  },
  {
   "cell_type": "markdown",
   "metadata": {},
   "source": [
    "## Congratulations! 🎉\n",
    "\n",
    "You have successfully completed the Raspberry Pi Button Testing Tutorial!\n",
    "\n",
    "### What You've Learned:\n",
    "- How to wire up arcade buttons to Raspberry Pi\n",
    "- How to use the `RPi.GPIO` library for button input\n",
    "- How to detect button presses and releases\n",
    "- How to handle button debouncing and state management\n",
    "- How to create interactive button programs\n",
    "- How to properly clean up GPIO resources\n",
    "\n",
    "### Next Steps:\n",
    "- Try the challenges above\n",
    "- Experiment with different button configurations\n",
    "- Move on to LED control with RPi.GPIO\n",
    "- Build the full LED racing game!\n",
    "\n",
    "### Troubleshooting Tips:\n",
    "- If buttons aren't detected, check your wiring\n",
    "- Make sure you're running on a Raspberry Pi\n",
    "- Verify the button is working with a multimeter\n",
    "- Check GPIO permissions if you get errors\n",
    "- **RPi.GPIO Advantage:** Use `GPIO.cleanup()` to reset all pins"
   ]
  }
 ],
 "metadata": {
  "kernelspec": {
   "display_name": "Python 3 (ipykernel)",
   "language": "python",
   "name": "python3"
  },
  "language_info": {
   "codemirror_mode": {
    "name": "ipython",
    "version": 3
   },
   "file_extension": ".py",
   "mimetype": "text/x-python",
   "name": "python",
   "nbconvert_exporter": "python",
   "pygments_lexer": "ipython3",
   "version": "3.9.2"
  }
 },
 "nbformat": 4,
 "nbformat_minor": 4
}
