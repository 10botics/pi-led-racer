{
 "cells": [
  {
   "cell_type": "markdown",
   "id": "8513baff-cafb-4967-87cf-7f9f03072744",
   "metadata": {},
   "outputs": [],
   "source": [
    "<img src=\"https://10botics.com/logo_jnb.png\" width=\"300\"/>"
   ]
  },
  {
   "cell_type": "markdown",
   "metadata": {},
   "outputs": [],
   "source": [
    "# Raspberry Pi WS2812 LED Strip Tutorial\n",
    "\n",
    "## Learning Objectives\n",
    "\n",
    "In this lesson, you will learn:\n",
    "\n",
    "1. Wire up a WS2812 LED strip to Raspberry Pi\n",
    "2. Install and use the `neopixel` library for WS2812 control\n",
    "3. Understand RGB color values and LED addressing\n",
    "4. Create various lighting patterns and animations\n",
    "5. Control individual LEDs and the entire strip\n",
    "6. Handle power requirements and timing constraints"
   ]
  },
  {
   "cell_type": "markdown",
   "metadata": {},
   "outputs": [],
   "source": [
    "## Hardware Setup\n",
    "\n",
    "Before we start coding, you need to wire up your WS2812 LED strip:\n",
    "\n",
    "### Wiring Diagram\n",
    "```\n",
    "Raspberry Pi    WS2812 Strip\n",
    "5V      -----> VCC (Power)\n",
    "GPIO 19 -----> DIN (Data In)\n",
    "GND     -----> GND (Ground)\n",
    "```\n",
    "\n",
    "### Steps:\n",
    "1. Connect the strip's **VCC** to Raspberry Pi **5V** (NOT 3.3V!)\n",
    "2. Connect the strip's **DIN** to Raspberry Pi **GPIO 19**\n",
    "3. Connect the strip's **GND** to Raspberry Pi **GND**\n",
    "4. Make sure your Raspberry Pi is powered on\n",
    "\n",
    "**Important Notes:**\n",
    "- WS2812 strips require 5V power (not 3.3V)\n",
    "- For longer strips, use external 5V power supply\n",
    "- Data line uses 3.3V logic levels (safe for WS2812)"
   ]
  },
  {
   "cell_type": "markdown",
   "metadata": {},
   "outputs": [],
   "source": [
    "## Exercise 1: Install Required Libraries\n",
    "\n",
    "**Objective:** Install the neopixel library for WS2812 control\n",
    "\n",
    "**Instructions:** Run the command below to install the required library\n",
    "\n",
    "**About the library:**\n",
    "- `rpi_ws281x` is the Python library for WS2812 control\n",
    "- It provides precise timing control needed for WS2812 protocol\n",
    "- Supports multiple LED strips and various configurations"
   ]
  },
  {
   "cell_type": "code",
   "execution_count": null,
   "metadata": {},
   "outputs": [],
   "source": [
    "# Install the WS2812 library\n",
    "!pip install rpi_ws281x\n",
    "\n",
    "print(\"✅ WS2812 library installed successfully\")"
   ]
  },
  {
   "cell_type": "markdown",
   "metadata": {},
   "outputs": [],
   "source": [
    "## Exercise 2: Import Required Libraries\n",
    "\n",
    "**Objective:** Import the necessary libraries for WS2812 control\n",
    "\n",
    "**Instructions:** Import the required libraries: `time`, `rpi_ws281x`"
   ]
  },
  {
   "cell_type": "code",
   "execution_count": null,
   "metadata": {},
   "outputs": [],
   "source": [
    "# Import the required libraries\n",
    "# You need: time and rpi_ws281x\n",
    "\n",
    "# Your code here...\n",
    "# Hint: import time, from rpi_ws281x import *\n",
    "\n",
    "print(\"✅ Libraries imported successfully\")"
   ]
  },
  {
   "cell_type": "markdown",
   "metadata": {
    "jp-MarkdownHeadingCollapsed": true
   },
   "outputs": [],
   "source": [
    "### Answer"
   ]
  },
  {
   "cell_type": "code",
   "execution_count": null,
   "metadata": {},
   "outputs": [],
   "source": [
    "import time\n",
    "from rpi_ws281x import *\n",
    "\n",
    "print(\"✅ Libraries imported successfully\")"
   ]
  },
  {
   "cell_type": "markdown",
   "metadata": {},
   "outputs": [],
   "source": [
    "## Step 3: Setup WS2812 Configuration\n",
    "\n",
    "**Objective:** Configure the WS2812 strip with proper parameters\n",
    "\n",
    "**Instructions:** Complete the code below to setup the WS2812 strip\n",
    "\n",
    "**About the parameters:**\n",
    "- `LED_COUNT`: Number of LEDs in your strip (adjust as needed)\n",
    "- `LED_PIN`: GPIO pin for data (GPIO 19)\n",
    "- `LED_FREQ_HZ`: Frequency (800kHz is standard)\n",
    "- `LED_DMA`: DMA channel (10 is usually safe)\n",
    "- `LED_INVERT`: Set to True if using logic inverter\n",
    "- `LED_CHANNEL`: Use 0 for GPIO 18, 1 for GPIO 19"
   ]
  },
  {
   "cell_type": "code",
   "execution_count": null,
   "metadata": {},
   "outputs": [],
   "source": [
    "# WS2812 Configuration\n",
    "LED_COUNT = 8      # Number of LED pixels\n",
    "LED_PIN = 21       # GPIO pin connected to the pixels\n",
    "LED_FREQ_HZ = 800000  # LED signal frequency in hertz\n",
    "LED_DMA = 10       # DMA channel to use for generating signal\n",
    "LED_INVERT = False  # True to invert the signal\n",
    "LED_CHANNEL = 0    # Set to '1' for GPIOs 13, 19, 41, 45 or 53\n",
    "\n",
    "print(\"✅ WS2812 configuration ready\")\n",
    "print(f\"LED Count: {LED_COUNT}\")\n",
    "print(f\"LED Pin: GPIO {LED_PIN}\")\n",
    "print(f\"Frequency: {LED_FREQ_HZ} Hz\")"
   ]
  },
  {
   "cell_type": "code",
   "execution_count": null,
   "metadata": {},
   "outputs": [],
   "source": [
    "!sudo usermod -a -G gpio $USER"
   ]
  },
  {
   "cell_type": "markdown",
   "metadata": {},
   "outputs": [],
   "source": [
    "## Step 4: Create LED Strip Object\n",
    "\n",
    "**Objective:** Initialize the WS2812 strip object\n",
    "\n",
    "**Instructions:** Complete the code below to create the strip object\n",
    "\n",
    "**About the strip object:**\n",
    "- `Adafruit_NeoPixel` creates the strip controller\n",
    "- `begin()` initializes the strip\n",
    "- `show()` sends the color data to the strip\n",
    "- `setPixelColor(index, color)` sets individual LED colors"
   ]
  },
  {
   "cell_type": "code",
   "execution_count": null,
   "metadata": {},
   "outputs": [],
   "source": [
    "!sudo chmod 666 /dev/mem\n",
    "!sudo setcap 'cap_sys_rawio+ep' /usr/bin/python3.9"
   ]
  },
  {
   "cell_type": "code",
   "execution_count": null,
   "metadata": {},
   "outputs": [],
   "source": [
    "# Create NeoPixel object with appropriate configuration\n",
    " # Import libraries\n",
    "from rpi_ws281x import PixelStrip, Color\n",
    "\n",
    "# WS2812 Configuration\n",
    "LED_COUNT = 8      # Number of LED pixels\n",
    "LED_PIN = 21       # GPIO pin connected to the pixels\n",
    "LED_FREQ_HZ = 800000  # LED signal frequency in hertz\n",
    "LED_DMA = 10       # DMA channel to use for generating signal\n",
    "LED_INVERT = False  # True to invert the signal\n",
    "LED_CHANNEL = 0   \n",
    "\n",
    "\n",
    "# Initialize the strip\n",
    "strip = PixelStrip(\n",
    "    LED_COUNT, LED_PIN, LED_FREQ_HZ, LED_DMA, LED_INVERT, 255, LED_CHANNEL\n",
    ")\n",
    "strip.begin()\n",
    "\n",
    "print(\"✅ WS2812 strip initialized\")\n",
    "print(f\"Total LEDs: {strip.numPixels()}\")"
   ]
  },
  {
   "cell_type": "markdown",
   "metadata": {},
   "outputs": [],
   "source": [
    "## Exercise 5: Basic Color Control\n",
    "\n",
    "**Objective:** Learn how to set colors on individual LEDs\n",
    "\n",
    "**Instructions:** Complete the code below to control LED colors\n",
    "\n",
    "**About color values:**\n",
    "- Colors are specified as RGB values (Red, Green, Blue)\n",
    "- Each color component ranges from 0-255\n",
    "- `Color(red, green, blue)` creates a color object\n",
    "- `setPixelColor(index, color)` sets LED at position 'index'\n",
    "- `show()` sends the data to the strip"
   ]
  },
  {
   "cell_type": "code",
   "execution_count": null,
   "metadata": {},
   "outputs": [],
   "source": [
    "print(\"Basic Color Control\")\n",
    "print(\"==================\")\n",
    "\n",
    "# Set first LED to red\n",
    "# Your code here...\n",
    "# Hint: strip.setPixelColor(0, Color(255, 0, 0))\n",
    "# Hint: strip.show()\n",
    "print(\"LED 0 set to RED\")\n",
    "\n",
    "time.sleep(2)  # Wait 2 seconds\n",
    "\n",
    "# Set first LED to green\n",
    "# Your code here...\n",
    "# Hint: strip.setPixelColor(0, Color(0, 255, 0))\n",
    "# Hint: strip.show()\n",
    "print(\"LED 0 set to GREEN\")\n",
    "\n",
    "time.sleep(2)  # Wait 2 seconds\n",
    "\n",
    "# Set first LED to blue\n",
    "# Your code here...\n",
    "# Hint: strip.setPixelColor(0, Color(0, 0, 255))\n",
    "# Hint: strip.show()\n",
    "print(\"LED 0 set to BLUE\")"
   ]
  },
  {
   "cell_type": "markdown",
   "metadata": {
    "jp-MarkdownHeadingCollapsed": true
   },
   "outputs": [],
   "source": [
    "### Answer"
   ]
  },
  {
   "cell_type": "code",
   "execution_count": null,
   "metadata": {},
   "outputs": [],
   "source": [
    "import time\n",
    "\n",
    "# Set first LED to red\n",
    "strip.setPixelColor(0, Color(255, 0, 0))\n",
    "strip.show()\n",
    "print(\"LED 0 set to RED\")\n",
    "\n",
    "time.sleep(2)  # Wait 2 seconds\n",
    "\n",
    "# Set first LED to green\n",
    "strip.setPixelColor(0, Color(0, 255, 0))\n",
    "strip.show()\n",
    "print(\"LED 0 set to GREEN\")\n",
    "\n",
    "time.sleep(2)  # Wait 2 seconds\n",
    "\n",
    "# Set first LED to blue\n",
    "strip.setPixelColor(0, Color(0, 0, 255))\n",
    "strip.show()\n",
    "print(\"LED 0 set to BLUE\")"
   ]
  },
  {
   "cell_type": "markdown",
   "metadata": {},
   "outputs": [],
   "source": [
    "## Exercise 6: Control Multiple LEDs\n",
    "\n",
    "**Objective:** Set different colors on multiple LEDs\n",
    "\n",
    "**Instructions:** Complete the code below to control multiple LEDs\n",
    "\n",
    "**About multiple LED control:**\n",
    "- Use loops to set multiple LEDs efficiently\n",
    "- LED indices start at 0 and go up to (LED_COUNT - 1)\n",
    "- You can set all LEDs before calling `show()`\n",
    "- This is more efficient than calling `show()` for each LED"
   ]
  },
  {
   "cell_type": "code",
   "execution_count": null,
   "metadata": {},
   "outputs": [],
   "source": [
    "print(\"Multiple LED Control\")\n",
    "print(\"===================\")\n",
    "\n",
    "# Set all LEDs to different colors\n",
    "colors = [\n",
    "    Color(255, 0, 0),    # Red\n",
    "    Color(0, 255, 0),    # Green\n",
    "    Color(0, 0, 255),    # Blue\n",
    "    Color(255, 255, 0),  # Yellow\n",
    "    Color(255, 0, 255),  # Magenta\n",
    "    Color(0, 255, 255),  # Cyan\n",
    "    Color(255, 255, 255), # White\n",
    "    Color(128, 128, 128)  # Gray\n",
    "]\n",
    "\n",
    "# Set each LED to its color\n",
    "# Your code here...\n",
    "# Hint: Use a loop to set each LED\n",
    "# Hint: strip.setPixelColor(i, colors[i])\n",
    "\n",
    "# Show all changes at once\n",
    "# Your code here...\n",
    "# Hint: strip.show()\n",
    "\n",
    "print(\"✅ All LEDs set to different colors!\")"
   ]
  },
  {
   "cell_type": "markdown",
   "metadata": {
    "jp-MarkdownHeadingCollapsed": true
   },
   "outputs": [],
   "source": [
    "### Answer"
   ]
  },
  {
   "cell_type": "code",
   "execution_count": null,
   "metadata": {},
   "outputs": [],
   "source": [
    "print(\"Multiple LED Control\")\n",
    "print(\"===================\")\n",
    "\n",
    "# Set all LEDs to different colors\n",
    "colors = [\n",
    "    Color(255, 0, 0),    # Red\n",
    "    Color(0, 255, 0),    # Green\n",
    "    Color(0, 0, 255),    # Blue\n",
    "    Color(255, 255, 0),  # Yellow\n",
    "    Color(255, 0, 255),  # Magenta\n",
    "    Color(0, 255, 255),  # Cyan\n",
    "    Color(255, 255, 255), # White\n",
    "    Color(128, 128, 128)  # Gray\n",
    "]\n",
    "\n",
    "# Set each LED to its color\n",
    "for i in range(min(LED_COUNT, len(colors))):\n",
    "    strip.setPixelColor(i, colors[i])\n",
    "\n",
    "# Show all changes at once\n",
    "strip.show()\n",
    "\n",
    "print(\"✅ All LEDs set to different colors!\")"
   ]
  },
  {
   "cell_type": "markdown",
   "metadata": {},
   "outputs": [],
   "source": [
    "## Exercise 7: Create a Rainbow Pattern\n",
    "\n",
    "**Objective:** Create a beautiful rainbow pattern across all LEDs\n",
    "\n",
    "**Instructions:** Complete the code below to create a rainbow effect\n",
    "\n",
    "**About rainbow colors:**\n",
    "- Use a color wheel function to generate smooth color transitions\n",
    "- Each LED gets a different hue based on its position\n",
    "- The pattern repeats every 256 color values\n",
    "- This creates a smooth gradient effect"
   ]
  },
  {
   "cell_type": "code",
   "execution_count": null,
   "metadata": {},
   "outputs": [],
   "source": [
    "def wheel(pos):\n",
    "    \"\"\"Generate rainbow colors across 0-255 positions.\"\"\"\n",
    "    if pos < 85:\n",
    "        return Color(pos * 3, 255 - pos * 3, 0)\n",
    "    elif pos < 170:\n",
    "        pos -= 85\n",
    "        return Color(255 - pos * 3, 0, pos * 3)\n",
    "    else:\n",
    "        pos -= 170\n",
    "        return Color(0, pos * 3, 255 - pos * 3)\n",
    "\n",
    "print(\"Rainbow Pattern\")\n",
    "print(\"===============\")\n",
    "\n",
    "# Create rainbow pattern\n",
    "# Your code here...\n",
    "# Hint: Use a loop to set each LED\n",
    "# Hint: Calculate color position: (i * 256 // LED_COUNT) & 255\n",
    "# Hint: strip.setPixelColor(i, wheel(color_pos))\n",
    "\n",
    "# Show the pattern\n",
    "# Your code here...\n",
    "# Hint: strip.show()\n",
    "\n",
    "print(\"✅ Rainbow pattern created!\")"
   ]
  },
  {
   "cell_type": "markdown",
   "metadata": {
    "jp-MarkdownHeadingCollapsed": true
   },
   "outputs": [],
   "source": [
    "### Answer"
   ]
  },
  {
   "cell_type": "code",
   "execution_count": null,
   "metadata": {},
   "outputs": [],
   "source": [
    "def wheel(pos):\n",
    "    \"\"\"Generate rainbow colors across 0-255 positions.\"\"\"\n",
    "    if pos < 85:\n",
    "        return Color(pos * 3, 255 - pos * 3, 0)\n",
    "    elif pos < 170:\n",
    "        pos -= 85\n",
    "        return Color(255 - pos * 3, 0, pos * 3)\n",
    "    else:\n",
    "        pos -= 170\n",
    "        return Color(0, pos * 3, 255 - pos * 3)\n",
    "\n",
    "print(\"Rainbow Pattern\")\n",
    "print(\"===============\")\n",
    "\n",
    "# Create rainbow pattern\n",
    "for i in range(strip.numPixels()):\n",
    "    color_pos = (i * 256 // strip.numPixels()) & 255\n",
    "    strip.setPixelColor(i, wheel(color_pos))\n",
    "\n",
    "# Show the pattern\n",
    "strip.show()\n",
    "\n",
    "print(\"✅ Rainbow pattern created!\")"
   ]
  },
  {
   "cell_type": "markdown",
   "metadata": {},
   "outputs": [],
   "source": [
    "## Exercise 8: Animated Rainbow\n",
    "\n",
    "**Objective:** Create an animated rainbow that moves across the strip\n",
    "\n",
    "**Instructions:** Complete the code below to create an animated rainbow\n",
    "\n",
    "**About animation:**\n",
    "- Use a loop to update the pattern over time\n",
    "- Shift the color positions each iteration\n",
    "- Add delays between frames for smooth animation\n",
    "- Use `j` as the animation counter to shift colors"
   ]
  },
  {
   "cell_type": "code",
   "execution_count": null,
   "metadata": {},
   "outputs": [],
   "source": [
    "print(\"Animated Rainbow\")\n",
    "print(\"===============\")\n",
    "print(\"Creating animated rainbow pattern...\")\n",
    "print(\"Press Ctrl+C to stop\")\n",
    "print()\n",
    "\n",
    "try:\n",
    "    j = 0\n",
    "    while True:\n",
    "        # Update each LED color\n",
    "        # Your code here...\n",
    "        # Hint: Use a loop for each LED\n",
    "        # Hint: Calculate shifted position: (i + j) & 255\n",
    "        # Hint: strip.setPixelColor(i, wheel(color_pos))\n",
    "        \n",
    "        # Show the updated pattern\n",
    "        # Your code here...\n",
    "        # Hint: strip.show()\n",
    "        \n",
    "        # Increment animation counter\n",
    "        # Your code here...\n",
    "        # Hint: j += 1\n",
    "        \n",
    "        # Small delay for smooth animation\n",
    "        time.sleep(0.05)\n",
    "        \n",
    "except KeyboardInterrupt:\n",
    "    print(\"\\nAnimation stopped by user\")\n",
    "except Exception as e:\n",
    "    print(f\"Error: {e}\")"
   ]
  },
  {
   "cell_type": "markdown",
   "metadata": {
    "jp-MarkdownHeadingCollapsed": true
   },
   "outputs": [],
   "source": [
    "### Answer"
   ]
  },
  {
   "cell_type": "code",
   "execution_count": null,
   "metadata": {},
   "outputs": [],
   "source": [
    "print(\"Animated Rainbow\")\n",
    "print(\"===============\")\n",
    "print(\"Creating animated rainbow pattern...\")\n",
    "print(\"Press Ctrl+C to stop\")\n",
    "print()\n",
    "\n",
    "try:\n",
    "    j = 0\n",
    "    while True:\n",
    "        # Update each LED color\n",
    "        for i in range(strip.numPixels()):\n",
    "            color_pos = (i + j) & 255\n",
    "            strip.setPixelColor(i, wheel(color_pos))\n",
    "        \n",
    "        # Show the updated pattern\n",
    "        strip.show()\n",
    "        \n",
    "        # Increment animation counter\n",
    "        j += 1\n",
    "        \n",
    "        # Small delay for smooth animation\n",
    "        time.sleep(0.05)\n",
    "        \n",
    "except KeyboardInterrupt:\n",
    "    print(\"\\nAnimation stopped by user\")\n",
    "except Exception as e:\n",
    "    print(f\"Error: {e}\")"
   ]
  },
  {
   "cell_type": "markdown",
   "metadata": {},
   "outputs": [],
   "source": [
    "## Exercise 9: Breathing Effect\n",
    "\n",
    "**Objective:** Create a breathing effect that fades LEDs in and out\n",
    "\n",
    "**Instructions:** Complete the code below to create a breathing effect\n",
    "\n",
    "**About breathing effect:**\n",
    "- Use sine wave to create smooth brightness transitions\n",
    "- Scale the RGB values based on brightness\n",
    "- The effect makes LEDs appear to \"breathe\"\n",
    "- Use `math.sin()` for smooth transitions"
   ]
  },
  {
   "cell_type": "code",
   "execution_count": null,
   "metadata": {},
   "outputs": [],
   "source": [
    "import math\n",
    "\n",
    "print(\"Breathing Effect\")\n",
    "print(\"===============\")\n",
    "print(\"Creating breathing effect...\")\n",
    "print(\"Press Ctrl+C to stop\")\n",
    "print()\n",
    "\n",
    "try:\n",
    "    while True:\n",
    "        # Calculate breathing brightness\n",
    "        # Your code here...\n",
    "        # Hint: Use math.sin() with time.time()\n",
    "        # Hint: brightness = abs(math.sin(time.time() * 2)) * 255\n",
    "        \n",
    "        # Set all LEDs to white with current brightness\n",
    "        # Your code here...\n",
    "        # Hint: Use a loop to set each LED\n",
    "        # Hint: strip.setPixelColor(i, Color(brightness, brightness, brightness))\n",
    "        \n",
    "        # Show the effect\n",
    "        # Your code here...\n",
    "        # Hint: strip.show()\n",
    "        \n",
    "        # Small delay\n",
    "        time.sleep(0.02)\n",
    "        \n",
    "except KeyboardInterrupt:\n",
    "    print(\"\\nBreathing effect stopped by user\")\n",
    "except Exception as e:\n",
    "    print(f\"Error: {e}\")"
   ]
  },
  {
   "cell_type": "markdown",
   "metadata": {
    "jp-MarkdownHeadingCollapsed": true
   },
   "outputs": [],
   "source": [
    "### Answer"
   ]
  },
  {
   "cell_type": "code",
   "execution_count": null,
   "metadata": {},
   "outputs": [],
   "source": [
    "import math\n",
    "\n",
    "print(\"Breathing Effect\")\n",
    "print(\"===============\")\n",
    "print(\"Creating breathing effect...\")\n",
    "print(\"Press Ctrl+C to stop\")\n",
    "print()\n",
    "\n",
    "try:\n",
    "    while True:\n",
    "        # Calculate breathing brightness\n",
    "        brightness = abs(math.sin(time.time() * 2)) * 255\n",
    "        \n",
    "        # Set all LEDs to white with current brightness\n",
    "        for i in range(strip.numPixels()):\n",
    "            strip.setPixelColor(i, Color(int(brightness), int(brightness), int(brightness)))\n",
    "        \n",
    "        # Show the effect\n",
    "        strip.show()\n",
    "        \n",
    "        # Small delay\n",
    "        time.sleep(0.02)\n",
    "        \n",
    "except KeyboardInterrupt:\n",
    "    print(\"\\nBreathing effect stopped by user\")\n",
    "except Exception as e:\n",
    "    print(f\"Error: {e}\")"
   ]
  },
  {
   "cell_type": "markdown",
   "metadata": {},
   "outputs": [],
   "source": [
    "## Exercise 10: Clean Up Resources\n",
    "\n",
    "**Objective:** Properly clean up WS2812 resources\n",
    "\n",
    "**Instructions:** Complete the code below to clean up the strip\n",
    "\n",
    "**About cleanup:**\n",
    "- Turn off all LEDs before exiting\n",
    "- This prevents LEDs from staying on\n",
    "- Important for power management\n",
    "- Good practice for any GPIO program"
   ]
  },
  {
   "cell_type": "code",
   "execution_count": null,
   "metadata": {},
   "outputs": [],
   "source": [
    "print(\"Cleaning up WS2812 resources...\")\n",
    "\n",
    "# Turn off all LEDs\n",
    "# Your code here...\n",
    "# Hint: Use a loop to set all LEDs to black/off\n",
    "# Hint: strip.setPixelColor(i, Color(0, 0, 0))\n",
    "\n",
    "# Show the changes\n",
    "# Your code here...\n",
    "# Hint: strip.show()\n",
    "\n",
    "print(\"✅ All LEDs turned off\")\n",
    "print(\"✅ WS2812 resources cleaned up\")"
   ]
  },
  {
   "cell_type": "markdown",
   "metadata": {
    "jp-MarkdownHeadingCollapsed": true
   },
   "outputs": [],
   "source": [
    "### Answer"
   ]
  },
  {
   "cell_type": "code",
   "execution_count": null,
   "metadata": {},
   "outputs": [],
   "source": [
    "print(\"Cleaning up WS2812 resources...\")\n",
    "\n",
    "# Turn off all LEDs\n",
    "for i in range(strip.numPixels()):\n",
    "    strip.setPixelColor(i, Color(0, 0, 0))\n",
    "\n",
    "# Show the changes\n",
    "strip.show()\n",
    "\n",
    "print(\"✅ All LEDs turned off\")\n",
    "print(\"✅ WS2812 resources cleaned up\")"
   ]
  },
  {
   "cell_type": "markdown",
   "metadata": {},
   "outputs": [],
   "source": [
    "## Summary\n",
    "\n",
    "Congratulations! You've successfully learned how to program WS2812 LED strips with Raspberry Pi. Here's what you accomplished:\n",
    "\n",
    "### Key Skills Learned:\n",
    "1. ✅ **Hardware Setup**: Properly wired WS2812 strip to Raspberry Pi\n",
    "2. ✅ **Library Installation**: Installed and imported the `rpi_ws281x` library\n",
    "3. ✅ **Configuration**: Set up WS2812 strip with correct parameters\n",
    "4. ✅ **Basic Control**: Controlled individual LED colors\n",
    "5. ✅ **Multiple LEDs**: Set different colors on multiple LEDs\n",
    "6. ✅ **Rainbow Patterns**: Created static and animated rainbow effects\n",
    "7. ✅ **Breathing Effect**: Implemented smooth brightness transitions\n",
    "8. ✅ **Resource Management**: Properly cleaned up GPIO resources\n",
    "\n",
    "### Advanced Concepts Covered:\n",
    "- **Color Theory**: RGB color values and color wheel functions\n",
    "- **Animation**: Creating smooth, timed animations\n",
    "- **Power Management**: Understanding 5V requirements\n",
    "- **Timing**: Precise timing control for WS2812 protocol\n",
    "\n",
    "### Next Steps:\n",
    "- Experiment with different color patterns\n",
    "- Create custom animations\n",
    "- Combine with sensors for interactive effects\n",
    "- Build larger LED installations\n",
    "\n",
    "### Important Notes:\n",
    "- Always use 5V power for WS2812 strips\n",
    "- For longer strips, use external power supply\n",
    "- Clean up resources when done\n",
    "- Be mindful of power consumption\n",
    "\n",
    "Happy LED programming! 🌈✨"
   ]
  },
  {
   "cell_type": "markdown",
   "id": "5cccca4b-bbac-4aa2-9743-ad73c8337fcd",
   "metadata": {},
   "outputs": [],
   "source": [
    "<hr/>"
   ]
  },
  {
   "cell_type": "markdown",
   "id": "3b376544-2517-4b95-913f-ce6f522ce5bf",
   "metadata": {},
   "outputs": [],
   "source": [
    "## Congratulation! You have finished this chapter."
   ]
  },
  {
   "cell_type": "markdown",
   "id": "d63a5467-8b99-4112-a85f-8c63a83d575a",
   "metadata": {},
   "outputs": [],
   "source": [
    "This jupyter notebook is created by 10Botics. <br>\n",
    "For permission to use in school, please contact info@10botics.com <br>\n",
    "All rights reserved. 2025."
   ]
  }
 ],
 "metadata": {
  "kernelspec": {
   "display_name": "Python 3 (ipykernel)",
   "language": "python",
   "name": "python3"
  },
  "language_info": {
   "codemirror_mode": {
    "name": "ipython",
    "version": 3
   },
   "file_extension": ".py",
   "mimetype": "text/x-python",
   "name": "python",
   "nbconvert_exporter": "python",
   "pygments_lexer": "ipython3",
   "version": "3.9.2"
  }
 },
 "nbformat": 4,
 "nbformat_minor": 4
}
